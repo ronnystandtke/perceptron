{
  "metadata": {
    "kernelspec": {
      "name": "python",
      "display_name": "Python (Pyodide)",
      "language": "python"
    },
    "language_info": {
      "codemirror_mode": {
        "name": "python",
        "version": 3
      },
      "file_extension": ".py",
      "mimetype": "text/x-python",
      "name": "python",
      "nbconvert_exporter": "python",
      "pygments_lexer": "ipython3",
      "version": "3.8"
    }
  },
  "nbformat_minor": 5,
  "nbformat": 4,
  "cells": [
    {
      "id": "a4a12072-e0ba-4979-a8a1-ee7cc1ced559",
      "cell_type": "markdown",
      "source": "### Use the menu entry \"Run &rarr; Run All Cells\" to start this notebook.\nThis interactive Jupyter notebook is supported by <a href=\"https://www.mozilla.org/firefox/new/\" target=\"_blank\">Firefox</a> and\n<a href=\"https://en.wikipedia.org/wiki/Chromium_(web_browser)#Browsers_based_on_Chromium\" target=\"_blank\">Chromium-based browsers</a> like Chrome, Opera, Vivaldi, Brave, Edge and others.",
      "metadata": {}
    },
    {
      "id": "0ee6fd16-c31d-4cc9-b486-56b03608e19b",
      "cell_type": "code",
      "source": "%pip install -q ipywidgets pandas jinja2\nfrom IPython.display import clear_output, display\nimport ipywidgets as widgets\nimport gettext\n\ngettext.bindtextdomain('perceptron', 'translations')\ngettext.textdomain('perceptron')\n_ = gettext.gettext\n\ntry:\n    from Perceptron import Perceptron\n\n    perceptron = Perceptron()\n\n    def alphaValueChanged(b):\n        perceptron.updateAlpha()\n\n    def resetButtonClicked(b):\n        perceptron.reset()\n\n    def stepButtonClicked(b):\n        perceptron.runStep()\n\n    def finishEpochButtonClicked(b):\n        perceptron.finishEpoch()\n\n    def inputCheckBoxClicked(b):\n        perceptron.updateTargetCheckbox()\n\n    perceptron.alphaText.observe(alphaValueChanged, 'value')\n    perceptron.resetButton.on_click(resetButtonClicked)\n    perceptron.stepButton.on_click(stepButtonClicked)\n    perceptron.finishEpochButton.on_click(finishEpochButtonClicked)\n    perceptron.inputCheckBox1.observe(inputCheckBoxClicked)\n    perceptron.inputCheckBox2.observe(inputCheckBoxClicked)\n\n    clear_output()\n    display(perceptron.GUI)\n\nexcept ModuleNotFoundError:\n    display(widgets.HTML(_(\n                \"\"\"\n                <h1>Startup failed</h1>\n                The startup of this notebook has failed. A known cause for this\n                error is starting the notebook in Firefox in private mode.\n                Please try again in a new Firefox window in normal mode. More\n                background information about this problem can be found here:\n                <br>\n                <a href=\"https://jupyterlite.readthedocs.io/en/latest/howto/configure/advanced/service-worker.html\" target=\"_blank\">\n                https://jupyterlite.readthedocs.io/en/latest/howto/configure/advanced/service-worker.html</a>\n                \"\"\"\n            )))",
      "metadata": {
        "tags": [],
        "jupyter": {
          "source_hidden": true
        },
        "trusted": true
      },
      "outputs": [],
      "execution_count": null
    }
  ]
}