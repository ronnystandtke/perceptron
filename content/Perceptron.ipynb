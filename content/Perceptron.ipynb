{
 "cells": [
  {
   "cell_type": "markdown",
   "id": "a4a12072-e0ba-4979-a8a1-ee7cc1ced559",
   "metadata": {},
   "source": [
    "### Use the menu entry \"Run &rarr; Run All Cells\" to start this notebook."
   ]
  },
  {
   "cell_type": "code",
   "execution_count": 2,
   "id": "0ee6fd16-c31d-4cc9-b486-56b03608e19b",
   "metadata": {
    "tags": []
   },
   "outputs": [],
   "source": [
    "%pip install -q ipywidgets==8.0.5 pandas jinja2\n",
    "from IPython.display import clear_output, display\n",
    "import ipywidgets as widgets\n",
    "import gettext\n",
    "\n",
    "gettext.bindtextdomain('perceptron', 'translations')\n",
    "gettext.textdomain('perceptron')\n",
    "_ = gettext.gettext\n",
    "\n",
    "try:\n",
    "    from Perceptron import Perceptron\n",
    "\n",
    "    perceptron = Perceptron()\n",
    "\n",
    "    def alphaValueChanged(b):\n",
    "        perceptron.updateAlpha()\n",
    "\n",
    "    def resetButtonClicked(b):\n",
    "        perceptron.reset()\n",
    "\n",
    "    def stepButtonClicked(b):\n",
    "        perceptron.runStep()\n",
    "\n",
    "    def finishEpochButtonClicked(b):\n",
    "        perceptron.finishEpoch()\n",
    "\n",
    "    def inputCheckBoxClicked(b):\n",
    "        perceptron.updateTargetCheckbox()\n",
    "\n",
    "    perceptron.alphaText.observe(alphaValueChanged, 'value')\n",
    "    perceptron.resetButton.on_click(resetButtonClicked)\n",
    "    perceptron.stepButton.on_click(stepButtonClicked)\n",
    "    perceptron.finishEpochButton.on_click(finishEpochButtonClicked)\n",
    "    perceptron.inputCheckBox1.observe(inputCheckBoxClicked)\n",
    "    perceptron.inputCheckBox2.observe(inputCheckBoxClicked)\n",
    "\n",
    "    clear_output()\n",
    "    display(perceptron.GUI)\n",
    "\n",
    "except ModuleNotFoundError:\n",
    "    display(widgets.HTML(_(\n",
    "                \"\"\"\n",
    "                <h1>Startup failed</h1>\n",
    "                The startup of this notebook has failed. A known cause for this\n",
    "                error is starting the notebook in Firefox in private mode.\n",
    "                Please try again in a new Firefox window in normal mode. More\n",
    "                background information about this problem can be found here:\n",
    "                <br>\n",
    "                <a href=\"https://jupyterlite.readthedocs.io/en/latest/howto/\n",
    "                configure/advanced/service-worker.html\">\n",
    "                https://jupyterlite.readthedocs.io/en/latest/howto/configure/\n",
    "                advanced/service-worker.html</a>\n",
    "                \"\"\"\n",
    "            )))"
   ]
  }
 ],
 "metadata": {
  "kernelspec": {
   "display_name": "Python 3 (ipykernel)",
   "language": "python",
   "name": "python3"
  },
  "language_info": {
   "codemirror_mode": {
    "name": "ipython",
    "version": 3
   },
   "file_extension": ".py",
   "mimetype": "text/x-python",
   "name": "python",
   "nbconvert_exporter": "python",
   "pygments_lexer": "ipython3",
   "version": "3.11.4"
  }
 },
 "nbformat": 4,
 "nbformat_minor": 5
}
