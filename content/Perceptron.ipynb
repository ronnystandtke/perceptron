{
  "metadata": {
    "kernelspec": {
      "name": "python",
      "display_name": "Python (Pyodide)",
      "language": "python"
    },
    "language_info": {
      "codemirror_mode": {
        "name": "python",
        "version": 3
      },
      "file_extension": ".py",
      "mimetype": "text/x-python",
      "name": "python",
      "nbconvert_exporter": "python",
      "pygments_lexer": "ipython3",
      "version": "3.8"
    }
  },
  "nbformat_minor": 5,
  "nbformat": 4,
  "cells": [
    {
      "cell_type": "markdown",
      "source": "### Use the menu entry \"Run &rarr; Run All Cells\" to start this notebook.",
      "metadata": {},
      "id": "a4a12072-e0ba-4979-a8a1-ee7cc1ced559"
    },
    {
      "cell_type": "code",
      "source": "%pip install -q ipywidgets==8.0.5 pandas jinja2\nfrom IPython.display import clear_output\nfrom Perceptron import Perceptron\n\nperceptron = Perceptron()\n\n\ndef alphaValueChanged(b):\n    perceptron.updateAlpha()\n\n\ndef resetButtonClicked(b):\n    perceptron.reset()\n\n\ndef stepButtonClicked(b):\n    perceptron.runStep()\n\n\ndef finishEpochButtonClicked(b):\n    perceptron.finishEpoch()\n\n\ndef inputCheckBoxClicked(b):\n    perceptron.updateTargetCheckbox()\n\n\nperceptron.alphaText.observe(alphaValueChanged, 'value')\nperceptron.resetButton.on_click(resetButtonClicked)\nperceptron.stepButton.on_click(stepButtonClicked)\nperceptron.finishEpochButton.on_click(finishEpochButtonClicked)\nperceptron.inputCheckBox1.observe(inputCheckBoxClicked)\nperceptron.inputCheckBox2.observe(inputCheckBoxClicked)\n\nclear_output()\nperceptron.GUI",
      "metadata": {
        "tags": [],
        "jupyter": {
          "source_hidden": true
        },
        "trusted": true
      },
      "execution_count": null,
      "outputs": [],
      "id": "0ee6fd16-c31d-4cc9-b486-56b03608e19b"
    }
  ]
}